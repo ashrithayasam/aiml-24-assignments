{
  "nbformat": 4,
  "nbformat_minor": 0,
  "metadata": {
    "colab": {
      "provenance": []
    },
    "kernelspec": {
      "name": "python3",
      "display_name": "Python 3"
    },
    "language_info": {
      "name": "python"
    }
  },
  "cells": [
    {
      "cell_type": "code",
      "execution_count": 1,
      "metadata": {
        "colab": {
          "base_uri": "https://localhost:8080/"
        },
        "id": "A_1Cc79BFeck",
        "outputId": "e02f2d82-94af-426f-e8a0-da86426fce7d"
      },
      "outputs": [
        {
          "output_type": "stream",
          "name": "stdout",
          "text": [
            "The optimal value is : 4\n"
          ]
        }
      ],
      "source": [
        "import math\n",
        "\n",
        "def minimax (curDepth, nodeIndex,\n",
        "             maxTurn, scores,\n",
        "             targetDepth):\n",
        "\n",
        "    # base case : targetDepth reached\n",
        "    if (curDepth == targetDepth):\n",
        "        return scores[nodeIndex]\n",
        "\n",
        "    if (maxTurn):\n",
        "        return max(minimax(curDepth + 1, nodeIndex * 2,\n",
        "                    False, scores, targetDepth),\n",
        "                   minimax(curDepth + 1, nodeIndex * 2 + 1,\n",
        "                    False, scores, targetDepth))\n",
        "\n",
        "    else:\n",
        "        return min(minimax(curDepth + 1, nodeIndex * 2,\n",
        "                     True, scores, targetDepth),\n",
        "                   minimax(curDepth + 1, nodeIndex * 2 + 1,\n",
        "                     True, scores, targetDepth))\n",
        "\n",
        "# Driver code\n",
        "scores = [-1,4,2,6,-3,-5,0,7]\n",
        "\n",
        "treeDepth = math.log(len(scores), 2)\n",
        "\n",
        "print(\"The optimal value is : \", end = \"\")\n",
        "print(minimax(0, 0, True, scores, treeDepth))"
      ]
    },
    {
      "cell_type": "code",
      "source": [
        "# Define the tree in terms of a dictionary\n",
        "tree = {\n",
        "    'A': {'B': {'D': {'H': -1, 'I': 4}, 'E': {'J': 2, 'K': 6}},\n",
        "          'C': {'F': {'L': -3, 'M': -5}, 'G': {'N': 0, 'O': 7}}\n",
        "         }\n",
        "}\n",
        "\n",
        "def alpha_beta(node, alpha, beta, maximizing_player=True):\n",
        "    if type(node) is not dict:\n",
        "        return node\n",
        "    if maximizing_player:\n",
        "        max_val = float('-inf')\n",
        "        for child in node.values():\n",
        "            value = alpha_beta(child, alpha, beta, False)\n",
        "            max_val = max(max_val, value)\n",
        "            alpha = max(alpha, value)\n",
        "            if beta <= alpha:\n",
        "                break\n",
        "        return max_val\n",
        "    else:\n",
        "        min_val = float('inf')\n",
        "        for child in node.values():\n",
        "            value = alpha_beta(child, alpha, beta, True)\n",
        "            min_val = min(min_val, value)\n",
        "            beta = min(beta, value)\n",
        "            if beta <= alpha:\n",
        "                break\n",
        "        return min_val\n",
        "\n",
        "# Call the function on the root of the tree\n",
        "result = alpha_beta(tree['A'], float('-inf'), float('inf'))\n",
        "print(f\"The value of the root node A after applying Alpha-Beta pruning is {result}\")"
      ],
      "metadata": {
        "colab": {
          "base_uri": "https://localhost:8080/"
        },
        "id": "d_UBo8WDGBqV",
        "outputId": "e0f09eaa-3301-4c77-c5dd-aac30e90a024"
      },
      "execution_count": 2,
      "outputs": [
        {
          "output_type": "stream",
          "name": "stdout",
          "text": [
            "The value of the root node A after applying Alpha-Beta pruning is 4\n"
          ]
        }
      ]
    }
  ]
}