{
  "nbformat": 4,
  "nbformat_minor": 0,
  "metadata": {
    "colab": {
      "provenance": []
    },
    "kernelspec": {
      "name": "python3",
      "display_name": "Python 3"
    },
    "language_info": {
      "name": "python"
    }
  },
  "cells": [
    {
      "cell_type": "code",
      "source": [
        "import pandas as pd\n",
        "d=pd.read_csv('/dataset1.csv')\n",
        "print(d)"
      ],
      "metadata": {
        "colab": {
          "base_uri": "https://localhost:8080/"
        },
        "id": "yt820vSO_mXn",
        "outputId": "371f1299-982e-48e7-f9ec-0116b18c0655"
      },
      "execution_count": 3,
      "outputs": [
        {
          "output_type": "stream",
          "name": "stdout",
          "text": [
            "   rollno  stname subject  marks\n",
            "0       1   radha      cn     89\n",
            "1       2    sita    dbms     78\n",
            "2       3  tharun      os     99\n",
            "3       4    ramu      cn     87\n",
            "4       5  yamini      os     59\n"
          ]
        }
      ]
    },
    {
      "cell_type": "code",
      "source": [
        "d=pd.read_excel('/dataset1.xlsm')\n",
        "print(d)"
      ],
      "metadata": {
        "colab": {
          "base_uri": "https://localhost:8080/"
        },
        "id": "JGI9VeouCvQZ",
        "outputId": "e7683627-08cc-4b1e-b0c3-507382eab000"
      },
      "execution_count": 4,
      "outputs": [
        {
          "output_type": "stream",
          "name": "stdout",
          "text": [
            "   rollno  stname subject  marks\n",
            "0       1   radha      cn     89\n",
            "1       2    sita    dbms     78\n",
            "2       3  tharun      os     99\n",
            "3       4    ramu      cn     87\n",
            "4       5  yamini      os     59\n"
          ]
        }
      ]
    },
    {
      "cell_type": "code",
      "source": [
        "d=pd.read_csv('/dataset1.tsv')\n",
        "print(d)"
      ],
      "metadata": {
        "colab": {
          "base_uri": "https://localhost:8080/"
        },
        "id": "vaeHqkljC6_P",
        "outputId": "112bc61a-d3a2-4ce8-ad79-9b5cf85cad3f"
      },
      "execution_count": 5,
      "outputs": [
        {
          "output_type": "stream",
          "name": "stdout",
          "text": [
            "  rollno\\tstname\\tsubject\\tmarks\n",
            "0               1\\tradha\\tcn\\t89\n",
            "1              2\\tsita\\tdbms\\t78\n",
            "2              3\\ttharun\\tos\\t99\n",
            "3                4\\tramu\\tcn\\t87\n",
            "4              5\\tyamini\\tos\\t59\n"
          ]
        }
      ]
    }
  ]
}